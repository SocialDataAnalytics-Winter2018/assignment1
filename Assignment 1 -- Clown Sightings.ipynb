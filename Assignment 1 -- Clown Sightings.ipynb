{
 "cells": [
  {
   "cell_type": "markdown",
   "metadata": {},
   "source": [
    "\n",
    "![](img/clown.png)\n",
    "\n",
    "# Assignment 1 - Clown Sightings\n",
    "\n",
    "You're a data journalist with the CBC and you want to do a story about the recent [creepy clown epidemic](http://globalnews.ca/news/2990008/creepy-clown-sightings-why-the-epidemic-is-spreading-across-canada-and-the-u-s/). Like many terrible things which enter Canada, the creepy clown sightings have spread into the country from the United States. The rising clown epidemic is having a series of negative effects: hardworking everyday clowns are having a hard time getting work, children are having more nightmares, and the Canadian Border Services are asking travellers whether or not they have been in contact with clowns if they have travelled into the States recently. \n",
    "\n",
    "Your job will be to amalgamate various data about these creepy clown sightings and to report on the various trends you see in the data. You will be working with (made up) data collected by policing agencies across Cananda. There are multiple files which are organized by either province or city."
   ]
  },
  {
   "cell_type": "code",
   "execution_count": null,
   "metadata": {
    "collapsed": true
   },
   "outputs": [],
   "source": [
    "import glob\n",
    "\n",
    "## TODO 1: import pandas and numpy\n",
    "\n",
    "## TODO 2: Complete the first line of the function 'loadData'. \n",
    "## It takes no arguments.\n",
    "def ______\n",
    "    df_clowns = pd.DataFrame()\n",
    "    ## glob loops through each file in the data directory\n",
    "    for file in glob.iglob('data/*.csv'):\n",
    "        ## TODO 3: read the CSV file with pandas into the variable df\n",
    "        ## NOTE: the data file name is stored in the looping variable\n",
    "        \n",
    "        ## TODO 4: Complete the following line to check \n",
    "        ## if the data frame has rows greater than 0\n",
    "        if _____\n",
    "            df_clowns = df_clowns.append(df)\n",
    "\n",
    "    return df_clowns"
   ]
  },
  {
   "cell_type": "code",
   "execution_count": null,
   "metadata": {
    "collapsed": true
   },
   "outputs": [],
   "source": [
    "df_clowns = loadData()\n",
    "\n",
    "## TODO 5a: Print the dimensions of the data frame \n",
    "\n",
    "## TODO 5b: Print the data frame's columns"
   ]
  },
  {
   "cell_type": "code",
   "execution_count": null,
   "metadata": {
    "collapsed": true
   },
   "outputs": [],
   "source": [
    "## TODO 6: Print the mean, median, min, and max of the height variable"
   ]
  },
  {
   "cell_type": "code",
   "execution_count": 2,
   "metadata": {
    "collapsed": true
   },
   "outputs": [],
   "source": [
    "## TODO 7a: Print the list of cities \n",
    "## and the number of sightings they have had in descending order.\n",
    "\n",
    "## TODO 7b: Print the list of provinces \n",
    "## and the number of sightings they have had in descending order."
   ]
  },
  {
   "cell_type": "code",
   "execution_count": null,
   "metadata": {
    "collapsed": true
   },
   "outputs": [],
   "source": [
    "## TODO 8: Print each hair colour and number of times \n",
    "## a particular hair colour has been sighted in descending order."
   ]
  },
  {
   "cell_type": "code",
   "execution_count": null,
   "metadata": {
    "collapsed": true
   },
   "outputs": [],
   "source": [
    "## TODO 9a: Create a new column called 'weight' where you\n",
    "## calculate clown weight by multiplying height by 0.75\n",
    "\n",
    "## TODO 9b: Print the mean of weight.\n",
    "\n",
    "## TODO 10: Look below."
   ]
  },
  {
   "cell_type": "markdown",
   "metadata": {},
   "source": [
    "**TODO 10: Write the article**\n",
    "\n",
    "In the final part of this assignment, you are going to write a small news article about the clown sightings. Replace each variable which is denoted as {{VARIABLE}} with the correct value. You will do this by editing the cell below directly.\n",
    "\n",
    "***\n"
   ]
  },
  {
   "cell_type": "markdown",
   "metadata": {},
   "source": [
    "### Creepy Clowns Congregate in Major Canadian Cities\n",
    "\n",
    "The issue of creepy clowns spreading to Canada is no laughing matter. In the month of October, Canadians have reported seeing over a thousand clowns across the country, according to new data coming from the RCMP. "
   ]
  },
  {
   "cell_type": "markdown",
   "metadata": {},
   "source": [
    "The data provided by the RCMP is unique, because it contains several variables of interest about the sightings, including {{LIST OF VARIABLES}}. It also contains information on {{NUMBER OF ROWS IN DF_CLOWNS}} sightings."
   ]
  },
  {
   "cell_type": "markdown",
   "metadata": {},
   "source": [
    "According to these data, {{CITY}} has reported {{NUMBER OF SIGHTINGS IN THIS CITY}} sightings, the most of any city in Canada. And {{PROVINCE}} takes the lead with {{NUMBER OF SIGHTINGS IN THIS PROVINCE}} sightings."
   ]
  },
  {
   "cell_type": "markdown",
   "metadata": {},
   "source": [
    "If you see a creepy clown, do not approach them on your own. Clowns are reported to be between {{HEIGHT MIN}} and {{HEIGHT MAX}} cm in height, with the average being about {{HEIGHT MEAN}} cm. They are also tend to be very rotund, with their weights an estimated average of {{WEIGHT MEAN}} kg. They are reported to have hair in the colors {{LIST OF COLORS}}, with {{MOST PREVALENT COLOR}} being the most common."
   ]
  }
 ],
 "metadata": {
  "anaconda-cloud": {},
  "kernelspec": {
   "display_name": "Python 3",
   "language": "python",
   "name": "python3"
  },
  "language_info": {
   "codemirror_mode": {
    "name": "ipython",
    "version": 3
   },
   "file_extension": ".py",
   "mimetype": "text/x-python",
   "name": "python",
   "nbconvert_exporter": "python",
   "pygments_lexer": "ipython3",
   "version": "3.6.3"
  }
 },
 "nbformat": 4,
 "nbformat_minor": 1
}
